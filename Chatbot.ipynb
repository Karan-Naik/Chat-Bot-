{
  "nbformat": 4,
  "nbformat_minor": 0,
  "metadata": {
    "colab": {
      "name": "Chatbot.ipynb",
      "provenance": [],
      "collapsed_sections": []
    },
    "kernelspec": {
      "name": "python3",
      "display_name": "Python 3"
    },
    "language_info": {
      "name": "python"
    }
  },
  "cells": [
    {
      "cell_type": "code",
      "execution_count": 66,
      "metadata": {
        "colab": {
          "base_uri": "https://localhost:8080/"
        },
        "id": "4QeZkhtG-wtp",
        "outputId": "ac42aba3-85a9-44e3-f847-6b99590d255e"
      },
      "outputs": [
        {
          "output_type": "stream",
          "name": "stdout",
          "text": [
            "Hi,Welcome To Colledge Website\n",
            ">What is your name\n",
            "My name is ...\n",
            ">quit\n",
            "None\n"
          ]
        }
      ],
      "source": [
        "from nltk.chat.util import Chat ,reflections\n",
        "\n",
        "QA=[\n",
        "     [\n",
        "       r\"hi|hello|hey\",\n",
        "       ['Hello','Hi'],\n",
        "     ],\n",
        "    [\n",
        "       r\"What is your name\",\n",
        "       ['My name is ...'],\n",
        "     ],\n",
        "       \n",
        "     \n",
        "   ]\n",
        "\n",
        "\n",
        "def bot():\n",
        "  print('Hi,Welcome To Colledge Website')\n",
        "  chat= Chat(QA, reflections)\n",
        "  chat.converse()\n",
        "\n",
        "if __name__ == \"__main__\":\n",
        "  bot()\n"
      ]
    },
    {
      "cell_type": "code",
      "source": [
        ""
      ],
      "metadata": {
        "id": "cApA8hTcFZKb"
      },
      "execution_count": null,
      "outputs": []
    }
  ]
}